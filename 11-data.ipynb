{
 "cells": [
  {
   "cell_type": "markdown",
   "metadata": {},
   "source": [
    "# CIS 9\n",
    "# Data"
   ]
  },
  {
   "cell_type": "markdown",
   "metadata": {},
   "source": [
    "Data science cannot work without data, so here are some considerations when we inspect the input data before we use it,  and when we draw conclusion from the data."
   ]
  },
  {
   "cell_type": "markdown",
   "metadata": {},
   "source": [
    "### A. Where to get data"
   ]
  },
  {
   "cell_type": "markdown",
   "metadata": {},
   "source": [
    "#### From established government offices, organizations, businesses\n",
    "<br>Examples:\n",
    "<br>Government offices\n",
    "- US Census Bureau\n",
    "- Center for Disease Control and Prevention\n",
    "- US Bureau of Labor Statistics\n",
    "\n",
    "\n",
    "World wide organizations\n",
    "- World Health Organization\n",
    "- World Bank Open Data\n",
    "\n",
    "\n",
    "Local government or organizations\n",
    "- Santa Clara County Government\n",
    "- California State University Institutional Research and Analyses\n",
    "\n",
    "\n",
    "Businesses\n",
    "- Housing data from Zillow\n",
    "- Yelp dataset"
   ]
  },
  {
   "cell_type": "markdown",
   "metadata": {},
   "source": [
    "From the sources above there are several ways to gather data.\n",
    "\n",
    "From web APIs (Application Programming Interface)\n",
    "- A web API is the way that a company or organization shares their data with web clients. \n",
    "- An API organizes and packs data that so that the data can be easily downloaded and read by the web clients.\n",
    "- A web API is useful when data changes quickly, such as with stock prices.  \n",
    "- An API is also useful when a large data set needs to be downloaded, such as map data.\n",
    "- A web API has a particular URL and several endpoints. \n",
    "\n",
    "[Overview article on API](https://blog.hubspot.com/website/application-programming-interface-api)\n"
   ]
  },
  {
   "cell_type": "code",
   "execution_count": null,
   "metadata": {},
   "outputs": [],
   "source": [
    "# Example: Use the API of the ISS (International Space Station) to see \n",
    "# where the ISS is currently located.\n",
    "\n",
    "import requests\n",
    "import time\n",
    "\n",
    "page = requests.get(\"http://api.open-notify.org/iss-now.json\")\n",
    "data = page.json()\n",
    "print(\"Current time:\", time.ctime(data['timestamp']))\n",
    "print(\"Latitude:\", data['iss_position']['latitude'], \n",
    "      \"\\nLongitude:\", data['iss_position']['longitude'])"
   ]
  },
  {
   "cell_type": "markdown",
   "metadata": {},
   "source": [
    "#### From csv or excel files\n",
    "<br>Instead of an API, some organizations prepare data files that can be downloaded.\n",
    "<br>The DataFrame can read in several types of data, some of which we've already used:\n",
    "- pd.read_excel(filename)\n",
    "- pd.read_csv(filename)\n",
    "\n",
    "But there are other file types that can be read directly into a DataFrame as listed [here](https://pandas.pydata.org/pandas-docs/stable/reference/api/pandas.read_csv.html)."
   ]
  },
  {
   "cell_type": "code",
   "execution_count": null,
   "metadata": {},
   "outputs": [],
   "source": [
    "# Example: read from a csv file online\n",
    "import pandas as pd\n",
    "\n",
    "url = 'https://raw.githubusercontent.com/justmarkham/DAT8/master/data/yelp.csv'\n",
    "yelp = pd.read_csv(url)    \n",
    "yelp.head()"
   ]
  },
  {
   "cell_type": "markdown",
   "metadata": {},
   "source": [
    "#### From web scraping and web crawling\n",
    "Some organizations only present their data on their webpages. There is no API or file download. In this case we can _webscrape_ or extract data from the HTML page.\n",
    "\n",
    "When the data that we extract is a URL, we can use that URL to get to the next webpage. This is called _webcrawling_.\n",
    "\n",
    "[Overview article on web scraping](https://monashdatafluency.github.io/python-web-scraping/)"
   ]
  },
  {
   "cell_type": "markdown",
   "metadata": {},
   "source": [
    "Example: CIS Dept webpage: http://deanza.edu/cis/schedule.html"
   ]
  },
  {
   "cell_type": "code",
   "execution_count": null,
   "metadata": {},
   "outputs": [],
   "source": [
    "# Example: extract all CIS classes from the CIS Dept webpage\n",
    "\n",
    "import requests\n",
    "from bs4 import BeautifulSoup\n",
    "\n",
    "page = requests.get(\"http://deanza.edu/cis/schedule.html\")\n",
    "soup = BeautifulSoup(page.content, \"lxml\")\n",
    "table = soup.find('table')\n",
    "for tag in table.find_all('a') :\n",
    "    print(tag.text)"
   ]
  },
  {
   "cell_type": "markdown",
   "metadata": {},
   "source": [
    "#### From surveys\n",
    "If there is sufficient budget and personnel, we can also conduct surveys of specific groups of people. This way the data is customized for our application."
   ]
  },
  {
   "cell_type": "markdown",
   "metadata": {},
   "source": [
    "#### For practice and learning\n",
    "The 2 most commonly used data repositories are:<br>\n",
    "- [Kaggle](https://www.kaggle.com/datasets)\n",
    "- [UCI Datasets](https://archive.ics.uci.edu/ml/datasets.php)"
   ]
  },
  {
   "cell_type": "markdown",
   "metadata": {},
   "source": [
    "---"
   ]
  },
  {
   "cell_type": "markdown",
   "metadata": {},
   "source": [
    "### B. Data imbalance\n",
    "\n",
    "Data imbalance occurs when the input datasets are skewed in some ways. In a classification problem, it occurs when one data label has many more instances than other data labels in the set. It can also show up in the distribution plot of the input dataset, where the distribution is skewed to one side or there are 2 modes in the distribution.\n",
    "\n",
    "A problem with an imbalanced dataset is that our model learns the wrong pattern in the data and makes incorrect predictions. For example, if the dataset is 95% type A data and 5% type B data, then the algorithm, which is generally pretty smart because it can calculate probabilities, will simply predict most data to be of type A (and it will be 95% accurate!).\n",
    "\n",
    "For some applications it is expected to have imbalanced input data. For example, in detecting bank frauds, the majority of the transactions will be legitimate and only a small percentage will be frauds."
   ]
  },
  {
   "cell_type": "markdown",
   "metadata": {},
   "source": [
    "__How to address data imbalance__\n",
    "\n",
    "- The obvious way: collect more data, if it is not expected that the data will be imbalanced.\n",
    "- Determine accuracy correctly. In a classification problem, the confusion matrix can give a more meaningful interpretation than the accuracy score.\n",
    "- If the data is meant to be imbalanced, we can generate synthetic data to balance the data categories.\n",
    "- Add duplicate data for the category that has the smaller data sample. This is called upsampling or oversampling. Alternatively we can remove some data from the category that has the larger sample. This is called downsampling or undersampling.\n",
    "- Try different ML algorithms to improve the accuracy. Some models are better suited for imbalance data.\n",
    "\n",
    "[Overview article on techniques for imbalanced data](https://towardsai.net/p/l/important-techniques-to-handle-imbalanced-data-in-machine-learning-python)"
   ]
  },
  {
   "cell_type": "markdown",
   "metadata": {},
   "source": [
    "---"
   ]
  },
  {
   "cell_type": "markdown",
   "metadata": {},
   "source": [
    "### C. Data bias\n",
    "\n",
    "In addition to data imbalance, we also need to consider data bias. When the training data comes from a world full of inequalities, the algorithm may be learning how to keep propagating those inequalities. \n",
    "\n",
    "In the criminal justice system there have been many discussions on using ML to predict and assess bails, and how the predicted bail amount differs based on race. If the model incorrectly predicts that people of a particular ethnicity are more likely to commit a crime, their bail amount would be unfairly assessed. ([Article on data bias in criminal justice system](https://www.bu.edu/articles/2023/do-algorithms-reduce-bias-in-criminal-justice/))\n",
    "\n",
    "Data bias can occur also when a company uses an ML algorithm to vet resumes of job applicants. In one instance a model ended up recommending candidates for interviews based on gender. The study concluded that it was because historical data from surveying hiring managers showed that in the past, there were more men who worked in the company, so the model learned that more men are hired and recommended more male candidates. ([Article on data bias in job applications](https://www.forbes.com/sites/forbeshumanresourcescouncil/2021/10/14/understanding-bias-in-ai-enabled-hiring/?sh=16af52767b96))\n",
    "\n",
    "One of the most commonly discussed data bias is on facial recognition. Depending on how diverse the age, gender, race of the people in the training dataset, the model can differentiate between one person and another in a specific group of people, but cannot differentiate between different people of another group. ([Article on how data scientists are trying to combat data bias in facial recognition](https://viterbischool.usc.edu/news/2023/01/using-computer-generated-images-to-create-unbiased-facial-recognition/))\n",
    "\n",
    "With the advance of NLP, there are also data bias in text. An example is in language translation. Google engineers from the Google Translate project have found that for some languages, the translation tended to be \"He is a doctor\" and \"She is a nurse\". To combat this, the engineers have discussed showing both forms: \"He is a doctor\" and \"She is a doctor\" are both presented. ([Article on data bias in NLP](https://towardsdatascience.com/bias-in-natural-language-processing-nlp-a-dangerous-but-fixable-problem-7d01a12cf0f7))"
   ]
  },
  {
   "cell_type": "markdown",
   "metadata": {},
   "source": [
    "---"
   ]
  }
 ],
 "metadata": {
  "kernelspec": {
   "display_name": "Python 3 (ipykernel)",
   "language": "python",
   "name": "python3"
  },
  "language_info": {
   "codemirror_mode": {
    "name": "ipython",
    "version": 3
   },
   "file_extension": ".py",
   "mimetype": "text/x-python",
   "name": "python",
   "nbconvert_exporter": "python",
   "pygments_lexer": "ipython3",
   "version": "3.12.1"
  }
 },
 "nbformat": 4,
 "nbformat_minor": 4
}
