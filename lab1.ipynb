{
 "cells": [
  {
   "cell_type": "markdown",
   "id": "811cf727",
   "metadata": {},
   "source": [
    "Lab 1: Data analysis with numpy, review Python"
   ]
  },
  {
   "cell_type": "code",
   "execution_count": null,
   "id": "62b123bc",
   "metadata": {},
   "outputs": [],
   "source": [
    "# Name: Shamita Goyal"
   ]
  },
  {
   "cell_type": "markdown",
   "id": "e5c3a93e",
   "metadata": {},
   "source": [
    "In this lab you will write code to analyze the population data of countries of the world.<br>\n",
    "\n",
    "Note:<br>\n",
    "- <u>Do not use pandas</u> for this lab<br>\n",
    "- Take advantage of numpy's functions instead of writing loops to access data<br>\n",
    "If your code doesn't contain any loop to access data in the population numpy array, you earn 1pt EC\n",
    "\n",
    "There are 3 input files for this lab ([source](https://www.census.gov/data-tools/demo/idb/#/table?COUNTRY_YEAR=2024&COUNTRY_YR_ANIM=2024&menu=tableViz&TABLE_YEARS=2023&TABLE_USE_RANGE=N&TABLE_USE_YEARS=Y&TABLE_STEP=1&TABLE_ADD_YEARS=2023)):<br>\n",
    "- `countries.txt`: contains a list of all countries of the world, one country name per line<br>\n",
    "- `population.csv`: contains a table of population data. Each row is for one country, and each row has 11 columns: population, growth rate, population density, fertility rate, life expectancy, under-5 mortality rate, ratio of males to females, ratio of youth to working age people, ratio of seniors to working age people, median male age, median female age.<br>\n",
    "- `header.csv`: contains the column headers for the 11 columns of population.csv."
   ]
  },
  {
   "cell_type": "markdown",
   "id": "e15fdd88",
   "metadata": {},
   "source": [
    "1. Import modules"
   ]
  },
  {
   "cell_type": "code",
   "execution_count": 3,
   "id": "529bdb20",
   "metadata": {},
   "outputs": [],
   "source": [
    "import numpy as np\n",
    "import csv"
   ]
  },
  {
   "cell_type": "markdown",
   "id": "a9727008",
   "metadata": {},
   "source": [
    "2. Read in data from the input files.\n",
    "\n",
    "From `countries.txt` file, read and store all the country names.<br> \n",
    "Then __Print the number of countries__, with a text explanation of your choice.<br>\n",
    "\n",
    "From `population.csv` file, read and store all the population data.<br>\n",
    "Then __print the number of rows and columns of the population table__, with a text explanation of your choice.<br>\n",
    "\n",
    "From `headers.csv` file, read and store all the column headers.<br>\n",
    "Then __print the number of headers__, with a text explanation of your choice.<br>\n",
    "\n",
    "Sample print output:<br>\n",
    "`Number of countries: 227`<br>\n",
    "`(Rows,columns) of population data: (227, 11)`<br>\n",
    "`Number of column headers: 11`"
   ]
  },
  {
   "cell_type": "code",
   "execution_count": 4,
   "id": "56fb0bd3",
   "metadata": {},
   "outputs": [
    {
     "name": "stdout",
     "output_type": "stream",
     "text": [
      "Number of countries: 227\n",
      "(Rows,columns) of population data: (227, 11)\n",
      "Number of column headers: 11\n"
     ]
    }
   ],
   "source": [
    "directory = \"/Users/shamitagoyal/Desktop/data_science_files/data_files/\"\n",
    "\n",
    "#opening countries.txt file\n",
    "with open(directory + \"countries.txt\") as file:\n",
    "    countries_file = np.array((file.read()).split(\"\\n\"))\n",
    "print(\"Number of countries:\", len(countries_file))\n",
    "\n",
    "\n",
    "#opening population.csv\n",
    "population_file = np.loadtxt(directory + \"population.csv\", delimiter=\",\", dtype=float)\n",
    "print(\"(Rows,columns) of population data:\", population_file.shape)\n",
    "\n",
    "#opening headers.csv\n",
    "with open(directory + \"headers.csv\") as file:\n",
    "    headers_file = csv.reader(file)\n",
    "    for line in headers_file:\n",
    "        print(\"Number of column headers:\", len(line))"
   ]
  },
  {
   "cell_type": "code",
   "execution_count": null,
   "id": "9a2c42f4-9163-468f-8199-50899edf9421",
   "metadata": {},
   "outputs": [],
   "source": [
    "# improved way for headers\n",
    "headers = np.genfromtxt(directory + \"headers.csv\", delimiter=\",\", dtype=\"str\")\n",
    "print(\"number of the column headers:\", len(headers))"
   ]
  },
  {
   "cell_type": "code",
   "execution_count": 16,
   "id": "bd4f47c5-c34d-45df-8682-c3a3e1d015ff",
   "metadata": {},
   "outputs": [
    {
     "data": {
      "text/plain": [
       "array([[3.9232003e+07, 2.2600000e+00, 6.0200000e+01, ..., 5.0000000e+00,\n",
       "        2.0000000e+01, 1.9800000e+01],\n",
       "       [3.1016210e+06, 1.9000000e-01, 1.1320000e+02, ..., 2.1600000e+01,\n",
       "        3.7200000e+01, 3.4300000e+01],\n",
       "       [4.6286076e+07, 1.6200000e+00, 1.9400000e+01, ..., 1.0700000e+01,\n",
       "        2.9200000e+01, 2.8600000e+01],\n",
       "       ...,\n",
       "       [3.1565602e+07, 1.8300000e+00, 5.9800000e+01, ..., 5.4000000e+00,\n",
       "        2.1800000e+01, 2.1500000e+01],\n",
       "       [2.0216029e+07, 2.8600000e+00, 2.7200000e+01, ..., 5.0000000e+00,\n",
       "        1.8400000e+01, 1.8000000e+01],\n",
       "       [1.6819805e+07, 1.9900000e+00, 4.3500000e+01, ..., 6.7000000e+00,\n",
       "        2.1800000e+01, 2.0200000e+01]])"
      ]
     },
     "metadata": {},
     "output_type": "display_data"
    },
    {
     "data": {
      "text/plain": [
       "0.68"
      ]
     },
     "execution_count": 16,
     "metadata": {},
     "output_type": "execute_result"
    }
   ],
   "source": [
    "display(population_file)\n",
    "index = np.where(countries_file == \"United States\")\n",
    "population_file[214][1]"
   ]
  },
  {
   "cell_type": "markdown",
   "id": "74d3f645",
   "metadata": {},
   "source": [
    "3. Find the total world population by adding all the country population numbers.<br>\n",
    "Then __print the total world population__, with your choice of text explanation and with commas separating the thousands in the number.\n",
    "\n",
    "To print a large number with commas, use the f-string format:  `f'{largeNum:,}'`  where largeNum is the large value\n"
   ]
  },
  {
   "cell_type": "code",
   "execution_count": 271,
   "id": "5860b2c6",
   "metadata": {},
   "outputs": [
    {
     "name": "stdout",
     "output_type": "stream",
     "text": [
      "The total world population is: 7,982,019,198.0\n"
     ]
    }
   ],
   "source": [
    "total_world_pop = np.sum(population_file, axis=0)[0]\n",
    "\n",
    "print(f'The total world population is: {total_world_pop:,}')"
   ]
  },
  {
   "cell_type": "markdown",
   "id": "31c48ffd",
   "metadata": {},
   "source": [
    "4. Find and __print the number of countries with a positive growth rate__<br>\n",
    "Then find and __print the number of countries with a negative growth rate__.<br>\n",
    "Make sure to print a text explanation with each number."
   ]
  },
  {
   "cell_type": "code",
   "execution_count": 277,
   "id": "11f0c3dd",
   "metadata": {},
   "outputs": [
    {
     "name": "stdout",
     "output_type": "stream",
     "text": [
      "The number of countries with a negative growth rate: 37\n",
      "The number of countries with a positive growth rate: 190\n"
     ]
    }
   ],
   "source": [
    "grow_rate_col = population_file[:,1]\n",
    "print(\"The number of countries with a negative growth rate:\", sum(grow_rate_col <0))\n",
    "print(\"The number of countries with a positive growth rate:\", sum(grow_rate_col >0))"
   ]
  },
  {
   "cell_type": "markdown",
   "id": "277dcdee",
   "metadata": {},
   "source": [
    "5a. Given your output of step 4, would you expect the median growth rate to be positive or negative?<br>\n",
    "__Create a RawNB Convert cell to <u>explain</u> your answer__."
   ]
  },
  {
   "cell_type": "raw",
   "id": "765992b6-de8e-4813-833d-a741322b8564",
   "metadata": {},
   "source": [
    "I would expect the median growth rate to be positive since there are more countries with a positive growth rate than a negative growth rate since the median represents the middle value in a sorted list. Sorting all the numbers from least to greatest in this data will most likely result in a positive median since the majority of growth rates are positive. "
   ]
  },
  {
   "cell_type": "markdown",
   "id": "c676066c",
   "metadata": {},
   "source": [
    "5b. Prove that your answer of 5a is correct by __printing the median growth rate__, with a text explanation."
   ]
  },
  {
   "cell_type": "code",
   "execution_count": 265,
   "id": "f6e11506",
   "metadata": {},
   "outputs": [
    {
     "name": "stdout",
     "output_type": "stream",
     "text": [
      "The median growth rate is: 0.79\n"
     ]
    }
   ],
   "source": [
    "print(\"The median growth rate is:\", np.median(grow_rate_col))"
   ]
  },
  {
   "cell_type": "markdown",
   "id": "9b6505b5",
   "metadata": {},
   "source": [
    "6a. Find the top 12 countries with the highest life expectancy.<br>\n",
    "Then __print the top 12 country names and life expectancy rate__, sorted in order of lowest to highest rate, in 2-column format.<br>\n",
    "\n",
    "You should only use the numpy methods discussed in class. Hint: sort the life expectancy and use the index of the sorted array to find the country names in the country array."
   ]
  },
  {
   "cell_type": "code",
   "execution_count": 280,
   "id": "ba8a5dbf",
   "metadata": {},
   "outputs": [
    {
     "name": "stdout",
     "output_type": "stream",
     "text": [
      "The top 12 country names and life expectancy rate:\n",
      " [['Afghanistan' '54.1']\n",
      " ['Central African Republic' '56.0']\n",
      " ['Somalia' '56.1']\n",
      " ['Mozambique' '57.7']\n",
      " ['Sierra Leone' '59.1']\n",
      " ['Chad' '59.6']\n",
      " ['South Sudan' '59.7']\n",
      " ['Lesotho' '59.9']\n",
      " ['Eswatini' '60.2']\n",
      " ['Niger' '60.5']\n",
      " ['Liberia' '61.3']\n",
      " ['Nigeria' '61.8']]\n"
     ]
    }
   ],
   "source": [
    "# 1. find all the growth rates\n",
    "life_expec_rate_col = population_file[:,4]\n",
    "\n",
    "# 2. Sort the top 12 growth rates\n",
    "top_12_rates = np.sort(life_expec_rate_col)[0:12]\n",
    "\n",
    "# 3. Find the indexes of the sorted growth rates\n",
    "top_12_indexes = np.argsort(life_expec_rate_col)[0:12]\n",
    "\n",
    "# 4. Find the 12 countries from the indexes\n",
    "top_12_countries = countries_file[top_12_indexes]\n",
    "\n",
    "# 5. Make the data values and country names into 2-column format\n",
    "top_life_expec_table = np.array([top_12_countries, top_12_rates]).T\n",
    "\n",
    "print(\"The top 12 country names and life expectancy rate:\\n\", top_life_expec_table)"
   ]
  },
  {
   "cell_type": "code",
   "execution_count": 6,
   "id": "57532fd1-3304-42cc-a288-3d70f7850102",
   "metadata": {},
   "outputs": [
    {
     "name": "stdout",
     "output_type": "stream",
     "text": [
      "Top 12 life expectancy\n",
      "Malta                  \t83.4\n",
      "Guernsey               \t83.4\n",
      "Andorra                \t83.6\n",
      "Iceland                \t83.8\n",
      "Switzerland            \t83.8\n",
      "Hong Kong              \t83.8\n",
      "Canada                 \t84.0\n",
      "San Marino             \t84.1\n",
      "Japan                  \t85.0\n",
      "Macau                  \t85.2\n",
      "Singapore              \t86.5\n",
      "Monaco                 \t89.6\n"
     ]
    }
   ],
   "source": [
    "indices = np.argsort(population_file[:,4])[-12:]\n",
    "print(\"Top 12 life expectancy\")\n",
    "for i in indices:\n",
    "    print(f'{countries_file[i]:23s}\\t{population_file[i,4]}')"
   ]
  },
  {
   "cell_type": "code",
   "execution_count": null,
   "id": "99e28af3-6eff-4ccb-9681-c0ba3c160eb1",
   "metadata": {},
   "outputs": [],
   "source": []
  },
  {
   "cell_type": "markdown",
   "id": "7b23dd51",
   "metadata": {},
   "source": [
    "6b. Using the same sorted array in step 6a, find the bottom 12 countries with the lowest life expectancy.<br>\n",
    "Then __print the bottom 12 country names and life expectancy rate__, sorted in order of lowest to highest rate, in 2-column format.<br>"
   ]
  },
  {
   "cell_type": "code",
   "execution_count": 267,
   "id": "1a627142",
   "metadata": {},
   "outputs": [
    {
     "name": "stdout",
     "output_type": "stream",
     "text": [
      "The bottom 12 country names and life expectancy rate:\n",
      " [['Malta' '83.4']\n",
      " ['Guernsey' '83.4']\n",
      " ['Andorra' '83.6']\n",
      " ['Iceland' '83.8']\n",
      " ['Switzerland' '83.8']\n",
      " ['Hong Kong' '83.8']\n",
      " ['Canada' '84.0']\n",
      " ['San Marino' '84.1']\n",
      " ['Japan' '85.0']\n",
      " ['Macau' '85.2']\n",
      " ['Singapore' '86.5']\n",
      " ['Monaco' '89.6']]\n"
     ]
    }
   ],
   "source": [
    "# 1. find all the growth rates from lest to greatest, find the bottom 12\n",
    "bottom_12_rates= (np.sort(life_expec_rate_col))[-12:]\n",
    "\n",
    "#2. do the same above but to find indexes\n",
    "bottom_12_indexes = np.argsort(life_expec_rate_col)[-12:]\n",
    "\n",
    "#3. search the countries from the indexes\n",
    "bottom_12_countries = countries_file[bottom_12_indexes]\n",
    "\n",
    "#4. make a table and store it into a variable\n",
    "bottom_life_expec_table = np.array([bottom_12_countries, bottom_12_rates]).T\n",
    "\n",
    "print(\"The bottom 12 country names and life expectancy rate:\\n\", bottom_life_expec_table)"
   ]
  },
  {
   "cell_type": "markdown",
   "id": "f4a21c62",
   "metadata": {},
   "source": [
    "7a. Write code to:\n",
    "- find the 75th, 50th, and 25th percentile of the Median Male and Female Ages (last 2 columns)\n",
    "- use if statements to __print whether the median US Male age and median US Female age is in the top, 2nd, 3rd, or bottom quartile__."
   ]
  },
  {
   "cell_type": "code",
   "execution_count": 290,
   "id": "993bc9c3",
   "metadata": {},
   "outputs": [
    {
     "name": "stdout",
     "output_type": "stream",
     "text": [
      "Male percentiles: 25th: 25.0, 50th: 32.3, 75th: 41.3\n",
      "Female percentiles: 25th: 24.25, 50th: 31.3, 75th: 39.25\n",
      "\n",
      "[37.2] [39.8]\n",
      "US Female and Male median age are in the bottom quartile.\n"
     ]
    }
   ],
   "source": [
    "# 1. extract data from column\n",
    "male_median_ages_col = population_file[:,9]\n",
    "\n",
    "# 2. extract data from column and find the media of that column for females\n",
    "female_median_ages_col = population_file[:,10]\n",
    "\n",
    "# 3. find the 25th, 50th, & 75th percentile of male and females\n",
    "q1_male, q2_male, q3_male = np.percentile(male_median_ages_col,[25, 50, 75])\n",
    "print(f\"Male percentiles: 25th: {q1_male}, 50th: {q2_male}, 75th: {q3_male}\")\n",
    "                        \n",
    "q1_female, q2_female, q3_female = np.percentile(female_median_ages_col,[25, 50, 75])\n",
    "print(f\"Female percentiles: 25th: {q1_female}, 50th: {q2_female}, 75th: {q3_female}\\n\")\n",
    "\n",
    "#4. determine US median:\n",
    "US_median_index = np.where(countries_file == \"United States\")\n",
    "US_male = male_median_ages_col[US_median_index] \n",
    "US_female = female_median_ages_col[US_median_index] \n",
    "\n",
    "# print(US_male,US_female) #[37.2] [39.8]\n",
    "\n",
    "\n",
    "# 4. determine which quartile the median lies\n",
    "#print whether the median US Male age and median US Female age is in the top, 2nd, 3rd, or bottom quartile.\n",
    "if (US_male >= q3_male) and (US_female >= q3_female):\n",
    "    print(\"Female and Male median age are in the top quartile.\")\n",
    "elif (q2_male <= US_male < q3_male) and (q2_female <= US_female < q3_female):\n",
    "    print(\"Female and Male median age are in the 2nd quartile.\")\n",
    "elif (q1_male <= US_male < q2_male) and (q1_female <= US_female < q2_female):\n",
    "    print(\"Female and Male median age are in the 3rd quartile.\")\n",
    "else:\n",
    "    print(\"US Female and Male median age are in the bottom quartile.\")"
   ]
  },
  {
   "cell_type": "code",
   "execution_count": 287,
   "id": "42518bbf-eea5-4fad-8c00-f699cb0e430d",
   "metadata": {},
   "outputs": [
    {
     "name": "stdout",
     "output_type": "stream",
     "text": [
      "US Female and Male median age are in the bottom quartile.\n"
     ]
    }
   ],
   "source": [
    "if (US_male >= q3_male) and (US_female >= q3_female):\n",
    "    print(\"Female and Male median age are in the top quartile.\")\n",
    "elif (q2_male <= US_male < q3_male) and (q2_female <= US_female < q3_female):\n",
    "    print(\"Female and Male median age are in the 2nd quartile.\")\n",
    "elif (q1_male <= US_male < q2_male) and (q1_female <= US_female < q2_female):\n",
    "    print(\"Female and Male median age are in the 3rd quartile.\")\n",
    "else:\n",
    "    print(\"US Female and Male median age are in the bottom quartile.\")"
   ]
  },
  {
   "cell_type": "markdown",
   "id": "60291680",
   "metadata": {},
   "source": [
    "7b. Based on the quartile of your output of 7a, __create a RawNB Convert cell to explain whether the US population is older, younger, or about the average compared to the rest of the world__?"
   ]
  },
  {
   "cell_type": "raw",
   "id": "a559779a-eee7-45e9-95a3-e57b9c204884",
   "metadata": {},
   "source": [
    "The US population is younger compared to the rest of the world."
   ]
  }
 ],
 "metadata": {
  "kernelspec": {
   "display_name": "Python 3 (ipykernel)",
   "language": "python",
   "name": "python3"
  },
  "language_info": {
   "codemirror_mode": {
    "name": "ipython",
    "version": 3
   },
   "file_extension": ".py",
   "mimetype": "text/x-python",
   "name": "python",
   "nbconvert_exporter": "python",
   "pygments_lexer": "ipython3",
   "version": "3.12.1"
  }
 },
 "nbformat": 4,
 "nbformat_minor": 5
}
