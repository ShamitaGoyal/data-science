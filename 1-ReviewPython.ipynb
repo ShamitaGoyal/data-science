{
 "cells": [
  {
   "cell_type": "markdown",
   "metadata": {},
   "source": [
    "### CIS 9 \n",
    "### Review Python Basics and Intro to Jupyter Notebook ###"
   ]
  },
  {
   "cell_type": "markdown",
   "metadata": {},
   "source": [
    "`Optional Reading`: Python Data Science Handbook, Ch. 1: IPython"
   ]
  },
  {
   "cell_type": "markdown",
   "metadata": {},
   "source": [
    "**1. Numbers and strings**"
   ]
  },
  {
   "cell_type": "code",
   "execution_count": 1,
   "metadata": {},
   "outputs": [
    {
     "name": "stdout",
     "output_type": "stream",
     "text": [
      "30\n",
      "555\n",
      "13\n",
      "53\n"
     ]
    }
   ],
   "source": [
    "a = 10\n",
    "b = 3\n",
    "c = '5'\n",
    "# Add code to print the result of a multiply with b\n",
    "print(a*b)\n",
    "# Add code to print the result of c replicated b times\n",
    "print(c*b)\n",
    "# Add code to print the result of a added with b\n",
    "print(a+b)\n",
    "# Add code to print the result of c concatenate with b\n",
    "print(c+str(b))"
   ]
  },
  {
   "cell_type": "markdown",
   "metadata": {},
   "source": [
    "**2. Decisions and loops**"
   ]
  },
  {
   "cell_type": "code",
   "execution_count": 3,
   "metadata": {},
   "outputs": [
    {
     "name": "stdout",
     "output_type": "stream",
     "text": [
      "Enter a number: 1\n",
      "Enter a number: 3\n",
      "Enter a number: -3\n",
      "Enter a number: -4\n",
      "Enter a number: -3\n",
      "Enter a number: 0\n",
      "Positive: 2  Negative: 3\n",
      "Enter a number: \n",
      "end\n"
     ]
    }
   ],
   "source": [
    "# Add code to create a loop to keep asking the user for a number until the user presses the Enter key only.\n",
    "# If the user enters 0, print the number of positive numbers and number of negative numbers entered.\n",
    "# Note that 0 is neither positive nor negative\n",
    "\n",
    "num = input(\"Enter a number: \")\n",
    "pos = neg = 0\n",
    "while len(num) != 0 :     # while num != ''\n",
    "    if float(num) < 0 :\n",
    "        neg += 1\n",
    "    elif float(num) > 0 :\n",
    "        pos += 1\n",
    "    else :\n",
    "        print(\"Positive:\", pos, \" Negative:\", neg)\n",
    "    num = input(\"Enter a number: \")\n",
    "print(\"end\")"
   ]
  },
  {
   "cell_type": "markdown",
   "metadata": {},
   "source": [
    "**3. Functions**"
   ]
  },
  {
   "cell_type": "code",
   "execution_count": 5,
   "metadata": {},
   "outputs": [
    {
     "name": "stdout",
     "output_type": "stream",
     "text": [
      "3\n",
      "0\n",
      "153\n"
     ]
    }
   ],
   "source": [
    "# Write a function add: \n",
    "def add(*args):\n",
    "    return sum(args)\n",
    "\n",
    "# such that the following function calls will run and print the expected result\n",
    "print(add(1, 2))   # print: 3\n",
    "print(add())       # print: 0\n",
    "print(add(1,2,3,4,5,6,7,8,9,10,11,12,13,14,15,16,17))   # print: 153\n",
    "\n",
    "# Can you write the function add such that: \n",
    "# - it has no loop\n",
    "# - you don't have to initialize all input parameters\n",
    "# - it can accept any number of input numbers, even more than 17 input arguments?"
   ]
  },
  {
   "cell_type": "markdown",
   "metadata": {},
   "source": [
    "**4. Containers or iterables**"
   ]
  },
  {
   "cell_type": "code",
   "execution_count": null,
   "metadata": {},
   "outputs": [],
   "source": [
    "# Use a container to store each character of the string \"hello\" separately, not together as a string.\n",
    "# Print the container to show individual characters\n",
    "# What type of container would you use? Why?\n",
    "\n",
    "strng = \"hello\"\n",
    "container = [char for char in strng]\n",
    "print(container)"
   ]
  },
  {
   "cell_type": "code",
   "execution_count": 6,
   "metadata": {
    "scrolled": true
   },
   "outputs": [
    {
     "name": "stdout",
     "output_type": "stream",
     "text": [
      "{'o', 'e', 'h', 'l'}\n"
     ]
    }
   ],
   "source": [
    "# Use a container to store the unique characters of the string \"hello\" \n",
    "# unique characters means only h,e,l,o should be stored\n",
    "# Print the container to show unique characters\n",
    "\n",
    "strng = \"hello\"\n",
    "container = set(char for char in strng)\n",
    "print(container)"
   ]
  },
  {
   "cell_type": "markdown",
   "metadata": {},
   "source": [
    "the output of this is {'o', 'e', 'h', 'l'}"
   ]
  },
  {
   "cell_type": "code",
   "execution_count": 8,
   "metadata": {},
   "outputs": [
    {
     "name": "stdout",
     "output_type": "stream",
     "text": [
      "['H', 'e', 'l', 'l', 'o', '!']\n"
     ]
    }
   ],
   "source": [
    "# Use a container to store the characters of the string \"hello\"\n",
    "# Then add an exclamation point to the container, after the letter 'o', and capitalize the 'h'\n",
    "# Print the container to show all the characters\n",
    "\n",
    "container = [char for char in strng]\n",
    "container.append(\"!\")\n",
    "container[0] = \"H\"\n",
    "print(container)"
   ]
  },
  {
   "cell_type": "code",
   "execution_count": 10,
   "metadata": {},
   "outputs": [
    {
     "name": "stdout",
     "output_type": "stream",
     "text": [
      "defaultdict(<class 'int'>, {'o': 111, 'e': 101, 'h': 104, 'l': 108})\n"
     ]
    }
   ],
   "source": [
    "# Use a container to store the unique characters of the string \"hello\" \n",
    "# and its ascii value. Example: 'h' should be stored with the ascii value 104\n",
    "# Print the container to show the unique characters and their ascii value\n",
    "\n",
    "import collections\n",
    "\n",
    "strng = \"hello\"\n",
    "container = set(char for char in strng)\n",
    "\n",
    "dict = collections.defaultdict(int)\n",
    "\n",
    "for char in container:\n",
    "    dict[char] += ord(char)\n",
    "\n",
    "print(dict)"
   ]
  },
  {
   "cell_type": "markdown",
   "metadata": {},
   "source": [
    "**5. Accessing lists**"
   ]
  },
  {
   "cell_type": "code",
   "execution_count": 31,
   "metadata": {},
   "outputs": [
    {
     "name": "stdout",
     "output_type": "stream",
     "text": [
      "[1, 2, 3, 4, 5, 6, 7, 8, 9, 10, 11, 12, 13, 14, 15, 16, 17, 18, 19, 20]\n",
      "[1, 2, 3, 4, 5, 6, 7, 8, 9, 10]\n",
      "[18, 19, 20]\n",
      "1 2 3 4 5 6 7 8 9 10 11 12 13 14 15 16 17 18 19 20 "
     ]
    }
   ],
   "source": [
    "L = list(range(1,21))\n",
    "print(L)\n",
    "# Write code to print the first half of the list\n",
    "print(L[0:10])\n",
    "# Write code to print the last 3 elements of the list\n",
    "print(L[17:21])\n",
    "# Write code to print every element of the list, all on one line, separated by space\n",
    "for char in L:\n",
    "    print(char, end=\" \")\n",
    "# Write code to negate every other element of the list \n",
    "\n",
    "for i in range(1,len(L),2):\n",
    "    L[i] *= -1\n",
    "print(L)"
   ]
  },
  {
   "cell_type": "code",
   "execution_count": 41,
   "metadata": {},
   "outputs": [
    {
     "name": "stdout",
     "output_type": "stream",
     "text": [
      "[0, 0, 0, 0, 0, 0, 0, 0, 0, 0, 0, 0, 0, 0, 0, 0, 0, 0, 0, 0]\n",
      "20\n"
     ]
    },
    {
     "ename": "TypeError",
     "evalue": "can only concatenate list (not \"str\") to list",
     "output_type": "error",
     "traceback": [
      "\u001b[0;31m---------------------------------------------------------------------------\u001b[0m",
      "\u001b[0;31mTypeError\u001b[0m                                 Traceback (most recent call last)",
      "Cell \u001b[0;32mIn[41], line 13\u001b[0m\n\u001b[1;32m      8\u001b[0m \u001b[38;5;66;03m# Write code to create a list of 10 lists, each inner list contains 20 elements, all initialized to 5.\u001b[39;00m\n\u001b[1;32m      9\u001b[0m \u001b[38;5;66;03m# Print the list of lists as 10 rows of 20 columns\u001b[39;00m\n\u001b[1;32m     10\u001b[0m \n\u001b[1;32m     11\u001b[0m \u001b[38;5;66;03m# one big list has 10 lists inside\u001b[39;00m\n\u001b[1;32m     12\u001b[0m two_D \u001b[38;5;241m=\u001b[39m [L] \u001b[38;5;241m*\u001b[39m \u001b[38;5;241m10\u001b[39m\n\u001b[0;32m---> 13\u001b[0m \u001b[38;5;28mprint\u001b[39m(two_D \u001b[38;5;241m+\u001b[39m \u001b[38;5;124m\"\u001b[39m\u001b[38;5;130;01m\\n\u001b[39;00m\u001b[38;5;124m\"\u001b[39m)\n\u001b[1;32m     14\u001b[0m \u001b[38;5;66;03m# rows: 10 \u001b[39;00m\n\u001b[1;32m     15\u001b[0m \u001b[38;5;66;03m# columns: 20 \u001b[39;00m\n\u001b[1;32m     17\u001b[0m \u001b[38;5;28;01mfor\u001b[39;00m i \u001b[38;5;129;01min\u001b[39;00m two_D:\n",
      "\u001b[0;31mTypeError\u001b[0m: can only concatenate list (not \"str\") to list"
     ]
    }
   ],
   "source": [
    "# Write code to create a list of 20 elements and initialize all elements to 0.\n",
    "# Can you do it without a loop?\n",
    "# Print the resulting list\n",
    "L = [0] * 20 \n",
    "print(L)\n",
    "print(len(L))\n",
    "\n",
    "# Write code to create a list of 10 lists, each inner list contains 20 elements, all initialized to 5.\n",
    "# Print the list of lists as 10 rows of 20 columns\n",
    "\n",
    "# one big list has 10 lists inside\n",
    "two_D = [L] * 10\n",
    "print(two_D)\n",
    "# rows: 10 \n",
    "# columns: 20 \n",
    "\n",
    "for i in two_D:\n",
    "    for x in i:\n",
    "        print(x, end = \" \")\n",
    "    print()"
   ]
  },
  {
   "cell_type": "code",
   "execution_count": 45,
   "metadata": {},
   "outputs": [
    {
     "name": "stdout",
     "output_type": "stream",
     "text": [
      "[7, 9, 6, 10, 1, 4, 5, 4]\n"
     ]
    }
   ],
   "source": [
    "import random\n",
    "L = [random.randint(1,10) for i in range(8)]\n",
    "print(L)\n",
    "\n",
    "# Write code to create a new list which is made of even values from L\n",
    "# Can you do this without a loop?\n",
    "# Print the new list\n",
    "\n",
    "\n",
    "\n",
    "# Print the new list, with the elements sorted in descending order\n",
    "\n",
    "\n",
    "# Write code to print True or False, depending on whether the value 4 is in the new list\n",
    "# Can you do it without an if statement?\n"
   ]
  },
  {
   "cell_type": "markdown",
   "metadata": {},
   "source": [
    "**6. Accessing dictionaries and tuples**"
   ]
  },
  {
   "cell_type": "code",
   "execution_count": null,
   "metadata": {},
   "outputs": [],
   "source": [
    "# Write a dictionary comprehension to store the letters A,B,C as keys and their ascii numbers as values\n",
    "# Print the dictionary\n",
    "\n",
    "\n",
    "# Write code to add D and its ascii value 68 to the dictionary\n",
    "\n",
    "\n",
    "# Write code to print a list of all keys\n",
    "\n",
    "\n",
    "# Write code to print a tuple of all values\n",
    "\n",
    "\n",
    "# Write code to print the key and value pair, one per line\n",
    "\n",
    "\n",
    "# Write code to store each value of D into a variable v1, v2, v3, v4\n",
    "# Print the variables v1,v2,v3,v4\n"
   ]
  },
  {
   "cell_type": "markdown",
   "metadata": {},
   "source": [
    "**7. File IO**"
   ]
  },
  {
   "cell_type": "code",
   "execution_count": null,
   "metadata": {},
   "outputs": [],
   "source": [
    "import csv\n",
    "with open(\"sample.csv\", \"w\", newline='') as f :\n",
    "    writer = csv.writer(f)\n",
    "    for i in range(3) :\n",
    "        writer.writerow([random.randint(1,11) for i in range(4)])\n",
    "# What does sample.csv look like?\n",
    "\n",
    "\n",
    "# Write code to read in sample.csv and print all numbers in each input line to one line of output, \n",
    "# separated by a space\n",
    "\n",
    "    \n",
    "# Write code to read in sample.csv as a text file (without using csv reader) \n",
    "# and print all numbers in one line of output, separated by space\n"
   ]
  },
  {
   "cell_type": "markdown",
   "metadata": {},
   "source": [
    "**8. Jupyter Notebook**"
   ]
  },
  {
   "cell_type": "markdown",
   "metadata": {},
   "source": [
    "There are 3 kinds of cells that are most commonly used:<br>\n",
    "- Code: to type in and run Python code\n",
    "- Raw NBConvert: plain text\n",
    "- Markdown: to type in explanation or documentation, using some basic HTML syntax for formatting text such as<br>\n",
    "> indentation\n",
    "\n",
    "**bold**\n",
    "\n",
    "*italicized*\n",
    "\n",
    "<u>underlined</u>\n",
    "\n",
    "and<br>\n",
    "\n",
    "## different\n",
    "### heading\n",
    "#### levels\n",
    "\n",
    "Double click on this current cell to see the raw HTML and notebook markup symbols to do all the text formatting above"
   ]
  },
  {
   "cell_type": "raw",
   "metadata": {},
   "source": [
    "In each of steps 1-7 above, there are pairs of Markdown and Code cells.\n",
    "This is an example of a Raw NBConvert cell."
   ]
  },
  {
   "cell_type": "markdown",
   "metadata": {},
   "source": [
    "*Click on each of the cells (or steps) below to select it and follow the direction to experiment with Jupyter Notebook.*"
   ]
  },
  {
   "cell_type": "markdown",
   "metadata": {},
   "source": [
    "1. Hover your mouse over each symbol in the toolbar above to see the explanation for them.<br>\n",
    "Use the **+** symbol in the toolbar above to create a new cell below this cell. Note that the new cell is a Code cell by default."
   ]
  },
  {
   "cell_type": "markdown",
   "metadata": {},
   "source": [
    "2. Select the newly created cell, then use the pulldown menu in the toolbar (the one that currently says **Code**) and change your newly created Code cell to Markdown.<br>\n",
    "Then change it to a Raw NBConvert cell."
   ]
  },
  {
   "cell_type": "markdown",
   "metadata": {},
   "source": [
    "3. Click on the new cell you just created and use the scissors symbol in the toolbar above to delete the cell."
   ]
  },
  {
   "cell_type": "markdown",
   "metadata": {},
   "source": [
    "4. Use the up or down arrow arrows to move this cell up or down as many times as you like. This will help you re-order existing cells instead of having to cut-and-paste the content of existing cells."
   ]
  },
  {
   "cell_type": "markdown",
   "metadata": {},
   "source": [
    "5. You already know about the Run button in the toolbar, which runs the current cell, tut sometimes it's convenient to run multiple cells in the notebook.\n",
    "\n",
    "- To run all the cells in the notebook:<br>\n",
    "-- go to the **Cell** pulldown menu and select *Run All*\n",
    "<br>\n",
    "\n",
    "- Sometimes it's also convenient to run all of the cells from the top cell up to the current cell:<br>\n",
    "-- go back to select a Code cell of one of the steps 1-7<br>\n",
    "-- go to the **Cell** pulldown menu and select *Run All Above*<br>\n",
    "This will run all the cells up to but not including the cell you're currently on"
   ]
  },
  {
   "cell_type": "markdown",
   "metadata": {},
   "source": [
    "6. If the code run seems to hang:\n",
    "\n",
    "- If you've run into an infinite loop:<br>\n",
    "-- go to the **Kernel** pulldown menu and select *Interrupt* to do the equivalence of a Control-C\n",
    "<br>\n",
    "\n",
    "- If the notebook code seems to be stuck and there's no loop running, or no waiting for user input, or no exception, and you simply want to start over again, you don't have to close the notebook and restart it. Instead:<br>\n",
    "-- go to the **Kernel** pulldown menu and select *Restart* "
   ]
  },
  {
   "cell_type": "markdown",
   "metadata": {},
   "source": [
    "The above are all the basic knowledge to use Jupyter Notebook for this clas.<br>\n",
    "For additional shortcuts on using the notebook, see this [youtube video](https://www.youtube.com/watch?v=FW2BF6jbHBk)<br>\n",
    "(Double click on this cell to see how to insert a link in your Markdown cell, useful for your final project at the end of the quarter)"
   ]
  },
  {
   "cell_type": "markdown",
   "metadata": {},
   "source": [
    "#### 9. Regular expression\n",
    "\n",
    "Regular expressions are useful for selecting and modifying text strings. For this class we will use regular expression to change text data and/or data labels.<br>\n",
    "For a good review of regex, here's an interactive website to read and practice regex: https://regexone.com/"
   ]
  },
  {
   "cell_type": "code",
   "execution_count": null,
   "metadata": {},
   "outputs": [],
   "source": []
  }
 ],
 "metadata": {
  "kernelspec": {
   "display_name": "Python 3 (ipykernel)",
   "language": "python",
   "name": "python3"
  },
  "language_info": {
   "codemirror_mode": {
    "name": "ipython",
    "version": 3
   },
   "file_extension": ".py",
   "mimetype": "text/x-python",
   "name": "python",
   "nbconvert_exporter": "python",
   "pygments_lexer": "ipython3",
   "version": "3.12.1"
  }
 },
 "nbformat": 4,
 "nbformat_minor": 4
}
