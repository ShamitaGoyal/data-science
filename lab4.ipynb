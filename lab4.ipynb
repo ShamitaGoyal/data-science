{
 "cells": [
  {
   "cell_type": "code",
   "execution_count": null,
   "id": "7ad56673",
   "metadata": {},
   "outputs": [],
   "source": [
    "# Name: Shamita Goyal"
   ]
  },
  {
   "cell_type": "markdown",
   "id": "c8d0317c",
   "metadata": {},
   "source": [
    "In this lab you will train an ML model to identify whether a news article is real news or fake news (Just in time for the election coming up in November).\n",
    "\n",
    "The input file is `news.csv` ([source](https://www.kaggle.com/datasets/meruvulikith/realtime-news-classification-dataset/data))"
   ]
  },
  {
   "cell_type": "code",
   "execution_count": 270,
   "id": "480b5159",
   "metadata": {},
   "outputs": [],
   "source": [
    "# import modules\n",
    "import pandas as pd\n",
    "import matplotlib.pyplot as plt\n",
    "import random\n",
    "from sklearn.model_selection import train_test_split\n",
    "from sklearn.naive_bayes import MultinomialNB\n",
    "from sklearn import metrics\n",
    "import nltk\n",
    "from nltk.tokenize import RegexpTokenizer\n",
    "from nltk.corpus import stopwords\n",
    "from nltk.stem import PorterStemmer\n",
    "from sklearn.feature_extraction.text import CountVectorizer"
   ]
  },
  {
   "cell_type": "markdown",
   "id": "074f2b76",
   "metadata": {},
   "source": [
    "1. Read data from `news.csv` into a DataFrame.<br>\n",
    "Then __print the number of rows and columns of the DataFrame__, and __print the first 5 rows of the DataFrame__"
   ]
  },
  {
   "cell_type": "code",
   "execution_count": 272,
   "id": "1fa96ba0",
   "metadata": {},
   "outputs": [
    {
     "data": {
      "text/html": [
       "<div>\n",
       "<style scoped>\n",
       "    .dataframe tbody tr th:only-of-type {\n",
       "        vertical-align: middle;\n",
       "    }\n",
       "\n",
       "    .dataframe tbody tr th {\n",
       "        vertical-align: top;\n",
       "    }\n",
       "\n",
       "    .dataframe thead th {\n",
       "        text-align: right;\n",
       "    }\n",
       "</style>\n",
       "<table border=\"1\" class=\"dataframe\">\n",
       "  <thead>\n",
       "    <tr style=\"text-align: right;\">\n",
       "      <th></th>\n",
       "      <th>title</th>\n",
       "      <th>text</th>\n",
       "      <th>subject</th>\n",
       "      <th>date</th>\n",
       "      <th>label</th>\n",
       "    </tr>\n",
       "  </thead>\n",
       "  <tbody>\n",
       "    <tr>\n",
       "      <th>0</th>\n",
       "      <td>Ben Stein Calls Out 9th Circuit Court: Committ...</td>\n",
       "      <td>21st Century Wire says Ben Stein, reputable pr...</td>\n",
       "      <td>US_News</td>\n",
       "      <td>February 13, 2017</td>\n",
       "      <td>fake</td>\n",
       "    </tr>\n",
       "    <tr>\n",
       "      <th>1</th>\n",
       "      <td>Trump drops Steve Bannon from National Securit...</td>\n",
       "      <td>WASHINGTON (Reuters) - U.S. President Donald T...</td>\n",
       "      <td>politicsNews</td>\n",
       "      <td>April 5, 2017</td>\n",
       "      <td>true</td>\n",
       "    </tr>\n",
       "    <tr>\n",
       "      <th>2</th>\n",
       "      <td>Puerto Rico expects U.S. to lift Jones Act shi...</td>\n",
       "      <td>(Reuters) - Puerto Rico Governor Ricardo Rosse...</td>\n",
       "      <td>politicsNews</td>\n",
       "      <td>September 27, 2017</td>\n",
       "      <td>true</td>\n",
       "    </tr>\n",
       "    <tr>\n",
       "      <th>3</th>\n",
       "      <td>OOPS: Trump Just Accidentally Confirmed He Le...</td>\n",
       "      <td>On Monday, Donald Trump once again embarrassed...</td>\n",
       "      <td>News</td>\n",
       "      <td>May 22, 2017</td>\n",
       "      <td>fake</td>\n",
       "    </tr>\n",
       "    <tr>\n",
       "      <th>4</th>\n",
       "      <td>Donald Trump heads for Scotland to reopen a go...</td>\n",
       "      <td>GLASGOW, Scotland (Reuters) - Most U.S. presid...</td>\n",
       "      <td>politicsNews</td>\n",
       "      <td>June 24, 2016</td>\n",
       "      <td>true</td>\n",
       "    </tr>\n",
       "  </tbody>\n",
       "</table>\n",
       "</div>"
      ],
      "text/plain": [
       "                                               title  \\\n",
       "0  Ben Stein Calls Out 9th Circuit Court: Committ...   \n",
       "1  Trump drops Steve Bannon from National Securit...   \n",
       "2  Puerto Rico expects U.S. to lift Jones Act shi...   \n",
       "3   OOPS: Trump Just Accidentally Confirmed He Le...   \n",
       "4  Donald Trump heads for Scotland to reopen a go...   \n",
       "\n",
       "                                                text       subject  \\\n",
       "0  21st Century Wire says Ben Stein, reputable pr...       US_News   \n",
       "1  WASHINGTON (Reuters) - U.S. President Donald T...  politicsNews   \n",
       "2  (Reuters) - Puerto Rico Governor Ricardo Rosse...  politicsNews   \n",
       "3  On Monday, Donald Trump once again embarrassed...          News   \n",
       "4  GLASGOW, Scotland (Reuters) - Most U.S. presid...  politicsNews   \n",
       "\n",
       "                  date label  \n",
       "0    February 13, 2017  fake  \n",
       "1       April 5, 2017   true  \n",
       "2  September 27, 2017   true  \n",
       "3         May 22, 2017  fake  \n",
       "4       June 24, 2016   true  "
      ]
     },
     "execution_count": 272,
     "metadata": {},
     "output_type": "execute_result"
    }
   ],
   "source": [
    "news_data = pd.read_csv(\"news.csv\", encoding='ISO-8859-1')\n",
    "news_data.head()"
   ]
  },
  {
   "cell_type": "markdown",
   "id": "4ebba79a",
   "metadata": {},
   "source": [
    "2. Analyze data\n",
    "\n",
    "2a. __Print the subject and count of each subject__"
   ]
  },
  {
   "cell_type": "code",
   "execution_count": 274,
   "id": "43755084",
   "metadata": {},
   "outputs": [
    {
     "data": {
      "text/plain": [
       "subject\n",
       "politicsNews       11272\n",
       "worldnews          10145\n",
       "News                9050\n",
       "politics            6841\n",
       "left-news           4459\n",
       "Government News     1570\n",
       "US_News              783\n",
       "Middle-east          778\n",
       "Name: count, dtype: int64"
      ]
     },
     "execution_count": 274,
     "metadata": {},
     "output_type": "execute_result"
    }
   ],
   "source": [
    "news_data.subject.value_counts()"
   ]
  },
  {
   "cell_type": "markdown",
   "id": "ce1021ab",
   "metadata": {},
   "source": [
    "2b. Use regular expression, change the date to show only the years<br>\n",
    "Then __print the year and count of each year__ to see how old the training data is."
   ]
  },
  {
   "cell_type": "code",
   "execution_count": 275,
   "id": "d3597e62",
   "metadata": {},
   "outputs": [
    {
     "data": {
      "text/plain": [
       "date\n",
       "2017    25904\n",
       "2016    16470\n",
       "2015     2479\n",
       "Name: count, dtype: int64"
      ]
     },
     "execution_count": 275,
     "metadata": {},
     "output_type": "execute_result"
    }
   ],
   "source": [
    "news_data[\"date\"] = news_data[\"date\"].str.extract(r', (\\d{4})')\n",
    "news_data.date.value_counts()"
   ]
  },
  {
   "cell_type": "markdown",
   "id": "2c7250d9",
   "metadata": {},
   "source": [
    "2c. __Show whether the label data are balanced__<br>\n",
    "then __create a RawNB Convert cell to explain your result__."
   ]
  },
  {
   "cell_type": "code",
   "execution_count": 276,
   "id": "81c094f1",
   "metadata": {},
   "outputs": [
    {
     "data": {
      "text/plain": [
       "label\n",
       "fake    23481\n",
       "true    21417\n",
       "Name: count, dtype: int64"
      ]
     },
     "execution_count": 276,
     "metadata": {},
     "output_type": "execute_result"
    }
   ],
   "source": [
    "news_data.label.value_counts()"
   ]
  },
  {
   "cell_type": "raw",
   "id": "91af1a80-708d-423a-a0fd-a8e78fe16b0e",
   "metadata": {},
   "source": [
    "The data seems fairly balanced as there is only about a difference of 2000 between the data value counts. This can work for our model as the difference is not huge. "
   ]
  },
  {
   "cell_type": "markdown",
   "id": "74c0d339",
   "metadata": {},
   "source": [
    "3. Clean data\n",
    "\n",
    "3a. Since the titles are generally short, we will train the model with the text.<br>\n",
    "The subject can be dropped since there can be real and fake news on any subject.<br>\n",
    "Similarly the date can be dropped since real and fake news can appear on any day.\n",
    "\n",
    "__Drop the title, subject, and date__ columns."
   ]
  },
  {
   "cell_type": "code",
   "execution_count": 277,
   "id": "3b898593",
   "metadata": {},
   "outputs": [],
   "source": [
    "cleanedD = news_data[[\"text\",\"label\"]]"
   ]
  },
  {
   "cell_type": "markdown",
   "id": "880d9f06",
   "metadata": {},
   "source": [
    "3b. __Check for NaNs and drop any NaNs__."
   ]
  },
  {
   "cell_type": "code",
   "execution_count": 278,
   "id": "1f080fd0",
   "metadata": {},
   "outputs": [
    {
     "data": {
      "text/plain": [
       "text     0\n",
       "label    0\n",
       "dtype: int64"
      ]
     },
     "execution_count": 278,
     "metadata": {},
     "output_type": "execute_result"
    }
   ],
   "source": [
    "cleanedD.isna().sum()"
   ]
  },
  {
   "cell_type": "markdown",
   "id": "b3165d23",
   "metadata": {},
   "source": [
    "__Print the resulting DataFrame__."
   ]
  },
  {
   "cell_type": "code",
   "execution_count": 279,
   "id": "cdfdcaf4",
   "metadata": {},
   "outputs": [
    {
     "data": {
      "text/html": [
       "<div>\n",
       "<style scoped>\n",
       "    .dataframe tbody tr th:only-of-type {\n",
       "        vertical-align: middle;\n",
       "    }\n",
       "\n",
       "    .dataframe tbody tr th {\n",
       "        vertical-align: top;\n",
       "    }\n",
       "\n",
       "    .dataframe thead th {\n",
       "        text-align: right;\n",
       "    }\n",
       "</style>\n",
       "<table border=\"1\" class=\"dataframe\">\n",
       "  <thead>\n",
       "    <tr style=\"text-align: right;\">\n",
       "      <th></th>\n",
       "      <th>text</th>\n",
       "      <th>label</th>\n",
       "    </tr>\n",
       "  </thead>\n",
       "  <tbody>\n",
       "    <tr>\n",
       "      <th>0</th>\n",
       "      <td>21st Century Wire says Ben Stein, reputable pr...</td>\n",
       "      <td>fake</td>\n",
       "    </tr>\n",
       "    <tr>\n",
       "      <th>1</th>\n",
       "      <td>WASHINGTON (Reuters) - U.S. President Donald T...</td>\n",
       "      <td>true</td>\n",
       "    </tr>\n",
       "    <tr>\n",
       "      <th>2</th>\n",
       "      <td>(Reuters) - Puerto Rico Governor Ricardo Rosse...</td>\n",
       "      <td>true</td>\n",
       "    </tr>\n",
       "    <tr>\n",
       "      <th>3</th>\n",
       "      <td>On Monday, Donald Trump once again embarrassed...</td>\n",
       "      <td>fake</td>\n",
       "    </tr>\n",
       "    <tr>\n",
       "      <th>4</th>\n",
       "      <td>GLASGOW, Scotland (Reuters) - Most U.S. presid...</td>\n",
       "      <td>true</td>\n",
       "    </tr>\n",
       "  </tbody>\n",
       "</table>\n",
       "</div>"
      ],
      "text/plain": [
       "                                                text label\n",
       "0  21st Century Wire says Ben Stein, reputable pr...  fake\n",
       "1  WASHINGTON (Reuters) - U.S. President Donald T...  true\n",
       "2  (Reuters) - Puerto Rico Governor Ricardo Rosse...  true\n",
       "3  On Monday, Donald Trump once again embarrassed...  fake\n",
       "4  GLASGOW, Scotland (Reuters) - Most U.S. presid...  true"
      ]
     },
     "execution_count": 279,
     "metadata": {},
     "output_type": "execute_result"
    }
   ],
   "source": [
    "cleanedD.head()"
   ]
  },
  {
   "cell_type": "markdown",
   "id": "9e88e25b",
   "metadata": {},
   "source": [
    "3c. Note that row index 44893 has no news article. Perhaps there are other rows with empty text.<br>\n",
    "__Find the number of rows where the text looks empty__, like row index 44893"
   ]
  },
  {
   "cell_type": "code",
   "execution_count": 280,
   "id": "9d1a1f9d",
   "metadata": {},
   "outputs": [
    {
     "name": "stdout",
     "output_type": "stream",
     "text": [
      "There are 631 rows where the text looks empty.\n"
     ]
    }
   ],
   "source": [
    "print(\"There are\", len(cleanedD.loc[cleanedD['text'].str.contains(r'^\\s*$', regex=True)]), \"rows where the text looks empty.\")"
   ]
  },
  {
   "cell_type": "markdown",
   "id": "c87d914b",
   "metadata": {},
   "source": [
    "__Create a new DataFrame that doesn't contain these rows__ of empty text.<br>\n",
    "Then __find the difference__ by subtracting:<br>\n",
    "(number of rows of the original DataFrame) - (number of rows of new DataFrame)\n",
    "\n",
    "The difference should be the same as the number of rows where the text is empty."
   ]
  },
  {
   "cell_type": "code",
   "execution_count": 281,
   "id": "8f2f8d04-8b45-447a-8edd-e03a6aed7f77",
   "metadata": {},
   "outputs": [],
   "source": [
    "index = cleanedD.loc[cleanedD['text'].str.contains(r'^\\s*$', regex=True)].index\n",
    "cleanedD = cleanedD.drop([i for i in index])"
   ]
  },
  {
   "cell_type": "code",
   "execution_count": 282,
   "id": "4445b3a2-4adf-40a5-8493-2e89800c119b",
   "metadata": {},
   "outputs": [
    {
     "data": {
      "text/plain": [
       "631"
      ]
     },
     "execution_count": 282,
     "metadata": {},
     "output_type": "execute_result"
    }
   ],
   "source": [
    "news_data.shape[0] - cleanedD.shape[0]"
   ]
  },
  {
   "cell_type": "markdown",
   "id": "f4a7c4c2",
   "metadata": {},
   "source": [
    "4. Create X and y datasets\n",
    "\n",
    "4a. Now that the data is cleaned, __create the X and y datasets__ from the new DataFrame.<br>\n",
    "Then __print the number of rows and columns of X and y__."
   ]
  },
  {
   "cell_type": "code",
   "execution_count": 283,
   "id": "5935d8be",
   "metadata": {},
   "outputs": [
    {
     "name": "stdout",
     "output_type": "stream",
     "text": [
      "the rows and columns of y are (44267,).\n",
      "the rows and columns of X are (44267, 1).\n"
     ]
    }
   ],
   "source": [
    "y = cleanedD.label\n",
    "label = {\"fake\":0, \"true\":1}\n",
    "y = y.replace(label)\n",
    "X = cleanedD.drop(columns=['label'])\n",
    "X = X.reset_index(drop =True)\n",
    "\n",
    "print(f\"the rows and columns of y are {y.shape}.\")\n",
    "print(f\"the rows and columns of X are {X.shape}.\")"
   ]
  },
  {
   "cell_type": "markdown",
   "id": "515152ae",
   "metadata": {},
   "source": [
    "5. Preprocessing X\n",
    "\n",
    "__Print the X dataset__, then __preprocess X__ as discussed in class.\n",
    "\n",
    "_It's a good idea to use multiple code cells, one for each main step of preprocessing_.<br>\n",
    "_Also note that some processing steps could take a minute or two_."
   ]
  },
  {
   "cell_type": "code",
   "execution_count": 284,
   "id": "b434c1c9",
   "metadata": {},
   "outputs": [
    {
     "data": {
      "text/html": [
       "<div>\n",
       "<style scoped>\n",
       "    .dataframe tbody tr th:only-of-type {\n",
       "        vertical-align: middle;\n",
       "    }\n",
       "\n",
       "    .dataframe tbody tr th {\n",
       "        vertical-align: top;\n",
       "    }\n",
       "\n",
       "    .dataframe thead th {\n",
       "        text-align: right;\n",
       "    }\n",
       "</style>\n",
       "<table border=\"1\" class=\"dataframe\">\n",
       "  <thead>\n",
       "    <tr style=\"text-align: right;\">\n",
       "      <th></th>\n",
       "      <th>text</th>\n",
       "    </tr>\n",
       "  </thead>\n",
       "  <tbody>\n",
       "    <tr>\n",
       "      <th>0</th>\n",
       "      <td>21st Century Wire says Ben Stein, reputable pr...</td>\n",
       "    </tr>\n",
       "    <tr>\n",
       "      <th>1</th>\n",
       "      <td>WASHINGTON (Reuters) - U.S. President Donald T...</td>\n",
       "    </tr>\n",
       "    <tr>\n",
       "      <th>2</th>\n",
       "      <td>(Reuters) - Puerto Rico Governor Ricardo Rosse...</td>\n",
       "    </tr>\n",
       "    <tr>\n",
       "      <th>3</th>\n",
       "      <td>On Monday, Donald Trump once again embarrassed...</td>\n",
       "    </tr>\n",
       "    <tr>\n",
       "      <th>4</th>\n",
       "      <td>GLASGOW, Scotland (Reuters) - Most U.S. presid...</td>\n",
       "    </tr>\n",
       "  </tbody>\n",
       "</table>\n",
       "</div>"
      ],
      "text/plain": [
       "                                                text\n",
       "0  21st Century Wire says Ben Stein, reputable pr...\n",
       "1  WASHINGTON (Reuters) - U.S. President Donald T...\n",
       "2  (Reuters) - Puerto Rico Governor Ricardo Rosse...\n",
       "3  On Monday, Donald Trump once again embarrassed...\n",
       "4  GLASGOW, Scotland (Reuters) - Most U.S. presid..."
      ]
     },
     "execution_count": 284,
     "metadata": {},
     "output_type": "execute_result"
    }
   ],
   "source": [
    "# print the X dataset\n",
    "X.head()"
   ]
  },
  {
   "cell_type": "code",
   "execution_count": 285,
   "id": "b14efbcd-fc80-4783-9c7f-3cd0e7fc6fc6",
   "metadata": {},
   "outputs": [],
   "source": [
    "tokenizer = RegexpTokenizer('[a-z]+')\n",
    "stop_words=set(stopwords.words(\"english\"))\n",
    "stemmer = PorterStemmer()"
   ]
  },
  {
   "cell_type": "code",
   "execution_count": 286,
   "id": "f57ea457-b299-4520-bcaa-54d926f48357",
   "metadata": {},
   "outputs": [
    {
     "data": {
      "text/html": [
       "<div>\n",
       "<style scoped>\n",
       "    .dataframe tbody tr th:only-of-type {\n",
       "        vertical-align: middle;\n",
       "    }\n",
       "\n",
       "    .dataframe tbody tr th {\n",
       "        vertical-align: top;\n",
       "    }\n",
       "\n",
       "    .dataframe thead th {\n",
       "        text-align: right;\n",
       "    }\n",
       "</style>\n",
       "<table border=\"1\" class=\"dataframe\">\n",
       "  <thead>\n",
       "    <tr style=\"text-align: right;\">\n",
       "      <th></th>\n",
       "      <th>0</th>\n",
       "    </tr>\n",
       "  </thead>\n",
       "  <tbody>\n",
       "    <tr>\n",
       "      <th>0</th>\n",
       "      <td>st centuri wire say ben stein reput professor ...</td>\n",
       "    </tr>\n",
       "    <tr>\n",
       "      <th>1</th>\n",
       "      <td>washington reuter u presid donald trump remov ...</td>\n",
       "    </tr>\n",
       "    <tr>\n",
       "      <th>2</th>\n",
       "      <td>reuter puerto rico governor ricardo rossello s...</td>\n",
       "    </tr>\n",
       "    <tr>\n",
       "      <th>3</th>\n",
       "      <td>monday donald trump embarrass countri accident...</td>\n",
       "    </tr>\n",
       "    <tr>\n",
       "      <th>4</th>\n",
       "      <td>glasgow scotland reuter u presidenti candid go...</td>\n",
       "    </tr>\n",
       "  </tbody>\n",
       "</table>\n",
       "</div>"
      ],
      "text/plain": [
       "                                                   0\n",
       "0  st centuri wire say ben stein reput professor ...\n",
       "1  washington reuter u presid donald trump remov ...\n",
       "2  reuter puerto rico governor ricardo rossello s...\n",
       "3  monday donald trump embarrass countri accident...\n",
       "4  glasgow scotland reuter u presidenti candid go..."
      ]
     },
     "execution_count": 286,
     "metadata": {},
     "output_type": "execute_result"
    }
   ],
   "source": [
    "# 1.remove all numbers and punctuations (ony words with letters should remain)\n",
    "# 2. change all words to lowercase\n",
    "# 3. remove all stop words\n",
    "# 4. stem all words\n",
    "\n",
    "def preprocess(s) :\n",
    "    w = tokenizer.tokenize(s.lower())  \n",
    "    w = [word for word in w if word not in stop_words] \n",
    "    w = [stemmer.stem(word) for word in w] \n",
    "    return ' '.join(w)        \n",
    "\n",
    "# with each row, preprocess the text string, and store all rows in the X_processed DataFrame\n",
    "X_processed = pd.DataFrame([preprocess(X.loc[i,'text']) for i in range(len(X))])\n",
    "X_processed.head()  "
   ]
  },
  {
   "cell_type": "markdown",
   "id": "7a764cdb",
   "metadata": {},
   "source": [
    "6. Train an ML model.\n",
    "- __Split into training and testing sets__\n",
    "- __Train the ML model__\n",
    "- __Show the accuracy__"
   ]
  },
  {
   "cell_type": "code",
   "execution_count": 287,
   "id": "0ccc1076",
   "metadata": {},
   "outputs": [
    {
     "data": {
      "text/plain": [
       "(44267, 89633)"
      ]
     },
     "execution_count": 287,
     "metadata": {},
     "output_type": "execute_result"
    }
   ],
   "source": [
    "vect = CountVectorizer()\n",
    "vect.fit(X_processed[0])\n",
    "X_vectors = vect.transform(X_processed[0])\n",
    "X_vectors.shape"
   ]
  },
  {
   "cell_type": "code",
   "execution_count": 288,
   "id": "a4ff0b3c-93c9-4737-b908-2bbdf8929765",
   "metadata": {},
   "outputs": [
    {
     "name": "stdout",
     "output_type": "stream",
     "text": [
      "(35413, 89633) (35413,) (8854, 89633) (8854,)\n"
     ]
    }
   ],
   "source": [
    "# split into train and test sets\n",
    "X_train, X_test, y_train, y_test = train_test_split(X_vectors,y,test_size=0.2)\n",
    "print(X_train.shape, y_train.shape, X_test.shape, y_test.shape)"
   ]
  },
  {
   "cell_type": "code",
   "execution_count": 289,
   "id": "a61839c5-d02c-4946-897e-29f66bbf8b71",
   "metadata": {},
   "outputs": [],
   "source": [
    "# train the model\n",
    "classifier = MultinomialNB()\n",
    "classifier.fit(X_train, y_train)\n",
    "y_pred = classifier.predict(X_test)"
   ]
  },
  {
   "cell_type": "code",
   "execution_count": 290,
   "id": "6c1ec9ca-8b0e-4dcc-a178-19790d1701de",
   "metadata": {},
   "outputs": [
    {
     "name": "stdout",
     "output_type": "stream",
     "text": [
      "the accuracy score is: 0.9489496272871019\n",
      "the confusion matrix is:\n"
     ]
    },
    {
     "data": {
      "text/plain": [
       "array([[4272,  240],\n",
       "       [ 212, 4130]])"
      ]
     },
     "execution_count": 290,
     "metadata": {},
     "output_type": "execute_result"
    }
   ],
   "source": [
    "# accuracy \n",
    "print(\"the accuracy score is:\", metrics.accuracy_score(y_test, y_pred))\n",
    "print(\"the confusion matrix is:\")\n",
    "metrics.confusion_matrix(y_test, y_pred, labels=[0,1])"
   ]
  },
  {
   "cell_type": "markdown",
   "id": "e914c160",
   "metadata": {},
   "source": [
    "---"
   ]
  },
  {
   "cell_type": "markdown",
   "id": "f26a3a2d",
   "metadata": {},
   "source": [
    "7. Further analysis\n",
    "\n",
    "7a. __Print the DataFrame__ from step 3b\n",
    "\n",
    "Note that news article with (Reuters) seem to be labeled 'true' most of the time.<br>\n",
    "From the rows with Reuters in the text, __print the number of 'true' and 'fake' labels__."
   ]
  },
  {
   "cell_type": "code",
   "execution_count": 291,
   "id": "39d492ed",
   "metadata": {},
   "outputs": [
    {
     "data": {
      "text/html": [
       "<div>\n",
       "<style scoped>\n",
       "    .dataframe tbody tr th:only-of-type {\n",
       "        vertical-align: middle;\n",
       "    }\n",
       "\n",
       "    .dataframe tbody tr th {\n",
       "        vertical-align: top;\n",
       "    }\n",
       "\n",
       "    .dataframe thead th {\n",
       "        text-align: right;\n",
       "    }\n",
       "</style>\n",
       "<table border=\"1\" class=\"dataframe\">\n",
       "  <thead>\n",
       "    <tr style=\"text-align: right;\">\n",
       "      <th></th>\n",
       "      <th>text</th>\n",
       "      <th>label</th>\n",
       "    </tr>\n",
       "  </thead>\n",
       "  <tbody>\n",
       "    <tr>\n",
       "      <th>0</th>\n",
       "      <td>21st Century Wire says Ben Stein, reputable pr...</td>\n",
       "      <td>fake</td>\n",
       "    </tr>\n",
       "    <tr>\n",
       "      <th>1</th>\n",
       "      <td>WASHINGTON (Reuters) - U.S. President Donald T...</td>\n",
       "      <td>true</td>\n",
       "    </tr>\n",
       "    <tr>\n",
       "      <th>2</th>\n",
       "      <td>(Reuters) - Puerto Rico Governor Ricardo Rosse...</td>\n",
       "      <td>true</td>\n",
       "    </tr>\n",
       "    <tr>\n",
       "      <th>3</th>\n",
       "      <td>On Monday, Donald Trump once again embarrassed...</td>\n",
       "      <td>fake</td>\n",
       "    </tr>\n",
       "    <tr>\n",
       "      <th>4</th>\n",
       "      <td>GLASGOW, Scotland (Reuters) - Most U.S. presid...</td>\n",
       "      <td>true</td>\n",
       "    </tr>\n",
       "  </tbody>\n",
       "</table>\n",
       "</div>"
      ],
      "text/plain": [
       "                                                text label\n",
       "0  21st Century Wire says Ben Stein, reputable pr...  fake\n",
       "1  WASHINGTON (Reuters) - U.S. President Donald T...  true\n",
       "2  (Reuters) - Puerto Rico Governor Ricardo Rosse...  true\n",
       "3  On Monday, Donald Trump once again embarrassed...  fake\n",
       "4  GLASGOW, Scotland (Reuters) - Most U.S. presid...  true"
      ]
     },
     "execution_count": 291,
     "metadata": {},
     "output_type": "execute_result"
    }
   ],
   "source": [
    "cleanedD.head()"
   ]
  },
  {
   "cell_type": "code",
   "execution_count": 292,
   "id": "7011f558-477b-4258-ab8c-c0ad16ae54eb",
   "metadata": {},
   "outputs": [
    {
     "data": {
      "text/plain": [
       "label\n",
       "true    21378\n",
       "fake      311\n",
       "Name: count, dtype: int64"
      ]
     },
     "execution_count": 292,
     "metadata": {},
     "output_type": "execute_result"
    }
   ],
   "source": [
    "cleanedD.label[cleanedD['text'].str.contains('Reuters')].value_counts()"
   ]
  },
  {
   "cell_type": "markdown",
   "id": "9c67bd3c",
   "metadata": {},
   "source": [
    "7b. __Create a RawNB Convert to explain the result__ of step 7a."
   ]
  },
  {
   "cell_type": "raw",
   "id": "3b9fd8fa-5c0b-4751-8cbe-a9f8860fde2d",
   "metadata": {},
   "source": [
    "The data shows that news article titles that include the word 'Reuters' are seen to be labeled 'true' most of the time. This probably indicates that this is a trustworthy news article title since Reuters is a news agency company."
   ]
  },
  {
   "cell_type": "markdown",
   "id": "3cb49262",
   "metadata": {},
   "source": [
    "7c. Check to see if Reuters have an effect on the accuracy of the model.<br>\n",
    "Using multiple code cells:\n",
    "- Start from the same X and y as step 4\n",
    "- __Remove the word Reuters from X and preprocess X__\n",
    "- __Train and check the accuracy of the model__"
   ]
  },
  {
   "cell_type": "code",
   "execution_count": 293,
   "id": "09c56590",
   "metadata": {},
   "outputs": [
    {
     "data": {
      "text/html": [
       "<div>\n",
       "<style scoped>\n",
       "    .dataframe tbody tr th:only-of-type {\n",
       "        vertical-align: middle;\n",
       "    }\n",
       "\n",
       "    .dataframe tbody tr th {\n",
       "        vertical-align: top;\n",
       "    }\n",
       "\n",
       "    .dataframe thead th {\n",
       "        text-align: right;\n",
       "    }\n",
       "</style>\n",
       "<table border=\"1\" class=\"dataframe\">\n",
       "  <thead>\n",
       "    <tr style=\"text-align: right;\">\n",
       "      <th></th>\n",
       "      <th>text</th>\n",
       "    </tr>\n",
       "  </thead>\n",
       "  <tbody>\n",
       "    <tr>\n",
       "      <th>0</th>\n",
       "      <td>21st Century Wire says Ben Stein, reputable pr...</td>\n",
       "    </tr>\n",
       "    <tr>\n",
       "      <th>1</th>\n",
       "      <td>WASHINGTON  - U.S. President Donald Trump remo...</td>\n",
       "    </tr>\n",
       "    <tr>\n",
       "      <th>2</th>\n",
       "      <td>- Puerto Rico Governor Ricardo Rossello said ...</td>\n",
       "    </tr>\n",
       "    <tr>\n",
       "      <th>3</th>\n",
       "      <td>On Monday, Donald Trump once again embarrassed...</td>\n",
       "    </tr>\n",
       "    <tr>\n",
       "      <th>4</th>\n",
       "      <td>GLASGOW, Scotland  - Most U.S. presidential ca...</td>\n",
       "    </tr>\n",
       "    <tr>\n",
       "      <th>...</th>\n",
       "      <td>...</td>\n",
       "    </tr>\n",
       "    <tr>\n",
       "      <th>44262</th>\n",
       "      <td>Miss Universe 1996 Alicia Machado is now an Am...</td>\n",
       "    </tr>\n",
       "    <tr>\n",
       "      <th>44263</th>\n",
       "      <td>LONDON/TOKYO  - British Prime Minister Theresa...</td>\n",
       "    </tr>\n",
       "    <tr>\n",
       "      <th>44264</th>\n",
       "      <td>BERLIN  - Chancellor Angela Merkel said German...</td>\n",
       "    </tr>\n",
       "    <tr>\n",
       "      <th>44265</th>\n",
       "      <td>Jesus f*cking Christ our President* is a moron...</td>\n",
       "    </tr>\n",
       "    <tr>\n",
       "      <th>44266</th>\n",
       "      <td>IF SHE S NOT TOAST NOW THEN WE RE IN BIGGER TR...</td>\n",
       "    </tr>\n",
       "  </tbody>\n",
       "</table>\n",
       "<p>44267 rows × 1 columns</p>\n",
       "</div>"
      ],
      "text/plain": [
       "                                                    text\n",
       "0      21st Century Wire says Ben Stein, reputable pr...\n",
       "1      WASHINGTON  - U.S. President Donald Trump remo...\n",
       "2       - Puerto Rico Governor Ricardo Rossello said ...\n",
       "3      On Monday, Donald Trump once again embarrassed...\n",
       "4      GLASGOW, Scotland  - Most U.S. presidential ca...\n",
       "...                                                  ...\n",
       "44262  Miss Universe 1996 Alicia Machado is now an Am...\n",
       "44263  LONDON/TOKYO  - British Prime Minister Theresa...\n",
       "44264  BERLIN  - Chancellor Angela Merkel said German...\n",
       "44265  Jesus f*cking Christ our President* is a moron...\n",
       "44266  IF SHE S NOT TOAST NOW THEN WE RE IN BIGGER TR...\n",
       "\n",
       "[44267 rows x 1 columns]"
      ]
     },
     "execution_count": 293,
     "metadata": {},
     "output_type": "execute_result"
    }
   ],
   "source": [
    "# remove the word reuters from X\n",
    "X['text'] = X['text'].str.replace('(Reuters)', '')\n",
    "X"
   ]
  },
  {
   "cell_type": "code",
   "execution_count": null,
   "id": "20aaf7e5-20cb-4af1-abfd-aad40a81f91b",
   "metadata": {},
   "outputs": [],
   "source": [
    "# preprocess X again \n",
    "def preprocess(s) :\n",
    "    w = tokenizer.tokenize(s.lower())  \n",
    "    w = [word for word in w if word not in stop_words] \n",
    "    w = [stemmer.stem(word) for word in w] \n",
    "    return ' '.join(w)        \n",
    "\n",
    "# with each row, preprocess the text string, and store all rows in the X_processed DataFrame\n",
    "X_noR = pd.DataFrame([preprocess(X.loc[i,'text']) for i in range(len(X))])\n",
    "X_noR.head()  "
   ]
  },
  {
   "cell_type": "code",
   "execution_count": 294,
   "id": "41c2d48c-ced3-4d65-a748-9f5fe80da43b",
   "metadata": {},
   "outputs": [
    {
     "data": {
      "text/plain": [
       "(44267, 89633)"
      ]
     },
     "execution_count": 294,
     "metadata": {},
     "output_type": "execute_result"
    }
   ],
   "source": [
    "vect1 = CountVectorizer()\n",
    "vect1.fit(X_noR[0])\n",
    "X_vectors = vect1.transform(X_noR[0])\n",
    "X_vectors.shape"
   ]
  },
  {
   "cell_type": "code",
   "execution_count": 295,
   "id": "43b5884d-7af1-43ab-bb96-ef8677ba0539",
   "metadata": {},
   "outputs": [
    {
     "name": "stdout",
     "output_type": "stream",
     "text": [
      "(35413, 89633) (35413,) (8854, 89633) (8854,)\n"
     ]
    }
   ],
   "source": [
    "# split into train and test sets\n",
    "X_train, X_test, y_train, y_test = train_test_split(X_vectors,y,test_size=0.2)\n",
    "print(X_train.shape, y_train.shape, X_test.shape, y_test.shape)"
   ]
  },
  {
   "cell_type": "code",
   "execution_count": 296,
   "id": "cc16565e-1b6b-4b09-aecc-b3bec68d7df6",
   "metadata": {},
   "outputs": [],
   "source": [
    "# train the model\n",
    "classifier_noR = MultinomialNB()\n",
    "classifier_noR.fit(X_train, y_train)\n",
    "y_pred = classifier_noR.predict(X_test)"
   ]
  },
  {
   "cell_type": "code",
   "execution_count": 297,
   "id": "6e706cfe-15d8-46b9-96cb-4c40304d8921",
   "metadata": {},
   "outputs": [
    {
     "name": "stdout",
     "output_type": "stream",
     "text": [
      "the accuracy score is: 0.9436412920713801\n",
      "the confusion matrix is:\n"
     ]
    },
    {
     "data": {
      "text/plain": [
       "array([[4266,  238],\n",
       "       [ 261, 4089]])"
      ]
     },
     "execution_count": 297,
     "metadata": {},
     "output_type": "execute_result"
    }
   ],
   "source": [
    "# accuracy \n",
    "print(\"the accuracy score is:\", metrics.accuracy_score(y_test, y_pred))\n",
    "print(\"the confusion matrix is:\")\n",
    "metrics.confusion_matrix(y_test, y_pred, labels=[0,1])"
   ]
  },
  {
   "cell_type": "markdown",
   "id": "ce6787f4",
   "metadata": {},
   "source": [
    "7d. Does removing Reuters make the accuracy go up, go down, or remain the same?<br>\n",
    "__Create a RawNB Convert cell for your answer__."
   ]
  },
  {
   "cell_type": "markdown",
   "id": "9338a6c2-54ad-496d-9400-f9dfb5c58376",
   "metadata": {},
   "source": [
    "Removing the reuters makes the accuracy go only a little down but it is almost the same as the previous accuracy score we found for the data with the reuters still in the news article titles. "
   ]
  },
  {
   "cell_type": "markdown",
   "id": "ccf2c9ca",
   "metadata": {},
   "source": [
    "---"
   ]
  },
  {
   "cell_type": "markdown",
   "id": "b0bd2ac0",
   "metadata": {},
   "source": [
    "8. Test the ML model with real data.\n",
    "\n",
    "8a. Follow these steps to get your choice of data.\n",
    "- Go to one of the official news source (ABC News, BBC News, Reuters News, AP News, etc.) and choose 2-3 news articles. Copy the first 2-3 sentences of each article into a Python string.\n",
    "- Go to the AP News fake news [site](https://apnews.com/hub/not-real-news), or other fake news site you know, and choose 1-3 articles. Copy the first 2-3 sentences of each article into a Python string. Make sure you copy the fake news part only and not the explanation for it, if there are any.\n",
    "- You should end up with 4-6 Python strings."
   ]
  },
  {
   "cell_type": "code",
   "execution_count": 312,
   "id": "27004555",
   "metadata": {},
   "outputs": [],
   "source": [
    "# trusted news sources:\n",
    "\n",
    "abcNews = \"\"\"The biggest night in Hollywood is finally here: The 2024 Oscars take place tonight, March 10.\n",
    "Jimmy Kimmel is hosting the 96th Academy Awards, a ceremony which will honor excellence in cinematic achievements for some of the past year's biggest films.\n",
    "\"Oppenheimer\" has the most nominations heading into the night with a total of 13 nods.\"\"\"\n",
    "\n",
    "bbcNews = \"\"\"Donald Trump and Joe Biden have both held campaign rallies in the US state of Georgia, as their general election showdown comes into greater focus.\n",
    "The former president, 77, slammed Thursday's State of the Union speech as an \"angry, dark and hate-filled rant\". \"\"\"\n",
    "\n",
    "reutersNews = \"\"\" March 10 (Reuters) - Ukraine on Sunday rebuffed Pope Francis's call to negotiate an end to the war with Russia, with President Volodymyr Zelenskiy saying \n",
    "the pontiff was engaging in \"virtual mediation\" and his foreign minister saying Kyiv would never capitulate. Francis said that when things were going badly for a party to\n",
    "a conflict one had to show the \"courage of the white flag\" and negotiate. \"\"\"\n",
    "\n",
    "\n",
    "# fake news sources:\n",
    "\n",
    "apNews = \"\"\"Executive Order 9066 authorized Japanese detention during World War II, not gift cards for recent migrants\n",
    "CLAIM: President Joe Biden issued Executive Order 9066, which provides people who enter the U.S. illegally with a $5,000 Visa gift card.\"\"\"\n",
    "\n",
    "hollywoodGazette = \"\"\"This article investigates the real story behind the legendary bloodied and bandaged face worn by Weeknd in his music video titled “What Happened to Weekend Face.”\n",
    "Are you looking forward to finding out more about What Happened to Weekend Face?\n",
    "If such is the case, you have arrived to the right place to quickly and easily get complete information on it.\"\"\"\n"
   ]
  },
  {
   "cell_type": "markdown",
   "id": "ce1454ec",
   "metadata": {},
   "source": [
    "8b. __Create a list named `y_actual`__ which contains the 'true' or 'fake' value corresponding to the strings you have above.<br>\n",
    "Make sure the y_actual data is in the same order as your news strings above (otherwise all bets are off)."
   ]
  },
  {
   "cell_type": "code",
   "execution_count": 313,
   "id": "bc622b75",
   "metadata": {},
   "outputs": [],
   "source": [
    "y_actual = [\"true\", \"true\", \"true\", \"false\", \"false\"]"
   ]
  },
  {
   "cell_type": "markdown",
   "id": "ef0ffdff",
   "metadata": {},
   "source": [
    "8c. __Create a DataFrame from your 4-6 news strings__ so that it looks similar to the X DataFrame of step 5 (not counting the index)"
   ]
  },
  {
   "cell_type": "code",
   "execution_count": 314,
   "id": "ecd81ed7",
   "metadata": {},
   "outputs": [],
   "source": [
    "testDf = pd.DataFrame([abcNews,bbcNews,reutersNews,apNews,hollywoodGazette], columns=[\"text\"])"
   ]
  },
  {
   "cell_type": "code",
   "execution_count": 315,
   "id": "41104947-ebde-40f7-a202-8d6ad44294a5",
   "metadata": {},
   "outputs": [
    {
     "data": {
      "text/html": [
       "<div>\n",
       "<style scoped>\n",
       "    .dataframe tbody tr th:only-of-type {\n",
       "        vertical-align: middle;\n",
       "    }\n",
       "\n",
       "    .dataframe tbody tr th {\n",
       "        vertical-align: top;\n",
       "    }\n",
       "\n",
       "    .dataframe thead th {\n",
       "        text-align: right;\n",
       "    }\n",
       "</style>\n",
       "<table border=\"1\" class=\"dataframe\">\n",
       "  <thead>\n",
       "    <tr style=\"text-align: right;\">\n",
       "      <th></th>\n",
       "      <th>text</th>\n",
       "    </tr>\n",
       "  </thead>\n",
       "  <tbody>\n",
       "    <tr>\n",
       "      <th>0</th>\n",
       "      <td>The biggest night in Hollywood is finally here...</td>\n",
       "    </tr>\n",
       "    <tr>\n",
       "      <th>1</th>\n",
       "      <td>Donald Trump and Joe Biden have both held camp...</td>\n",
       "    </tr>\n",
       "    <tr>\n",
       "      <th>2</th>\n",
       "      <td>March 10 (Reuters) - Ukraine on Sunday rebuff...</td>\n",
       "    </tr>\n",
       "    <tr>\n",
       "      <th>3</th>\n",
       "      <td>Executive Order 9066 authorized Japanese deten...</td>\n",
       "    </tr>\n",
       "    <tr>\n",
       "      <th>4</th>\n",
       "      <td>This article investigates the real story behin...</td>\n",
       "    </tr>\n",
       "  </tbody>\n",
       "</table>\n",
       "</div>"
      ],
      "text/plain": [
       "                                                text\n",
       "0  The biggest night in Hollywood is finally here...\n",
       "1  Donald Trump and Joe Biden have both held camp...\n",
       "2   March 10 (Reuters) - Ukraine on Sunday rebuff...\n",
       "3  Executive Order 9066 authorized Japanese deten...\n",
       "4  This article investigates the real story behin..."
      ]
     },
     "execution_count": 315,
     "metadata": {},
     "output_type": "execute_result"
    }
   ],
   "source": [
    "testDf"
   ]
  },
  {
   "cell_type": "code",
   "execution_count": 316,
   "id": "4b548a01-4209-43aa-b82c-52953501c062",
   "metadata": {},
   "outputs": [
    {
     "data": {
      "text/html": [
       "<div>\n",
       "<style scoped>\n",
       "    .dataframe tbody tr th:only-of-type {\n",
       "        vertical-align: middle;\n",
       "    }\n",
       "\n",
       "    .dataframe tbody tr th {\n",
       "        vertical-align: top;\n",
       "    }\n",
       "\n",
       "    .dataframe thead th {\n",
       "        text-align: right;\n",
       "    }\n",
       "</style>\n",
       "<table border=\"1\" class=\"dataframe\">\n",
       "  <thead>\n",
       "    <tr style=\"text-align: right;\">\n",
       "      <th></th>\n",
       "      <th>0</th>\n",
       "    </tr>\n",
       "  </thead>\n",
       "  <tbody>\n",
       "    <tr>\n",
       "      <th>0</th>\n",
       "      <td>biggest night hollywood final oscar take place...</td>\n",
       "    </tr>\n",
       "    <tr>\n",
       "      <th>1</th>\n",
       "      <td>donald trump joe biden held campaign ralli us ...</td>\n",
       "    </tr>\n",
       "    <tr>\n",
       "      <th>2</th>\n",
       "      <td>march reuter ukrain sunday rebuf pope franci c...</td>\n",
       "    </tr>\n",
       "    <tr>\n",
       "      <th>3</th>\n",
       "      <td>execut order author japanes detent world war i...</td>\n",
       "    </tr>\n",
       "    <tr>\n",
       "      <th>4</th>\n",
       "      <td>articl investig real stori behind legendari bl...</td>\n",
       "    </tr>\n",
       "  </tbody>\n",
       "</table>\n",
       "</div>"
      ],
      "text/plain": [
       "                                                   0\n",
       "0  biggest night hollywood final oscar take place...\n",
       "1  donald trump joe biden held campaign ralli us ...\n",
       "2  march reuter ukrain sunday rebuf pope franci c...\n",
       "3  execut order author japanes detent world war i...\n",
       "4  articl investig real stori behind legendari bl..."
      ]
     },
     "execution_count": 316,
     "metadata": {},
     "output_type": "execute_result"
    }
   ],
   "source": [
    "# preprocess X again \n",
    "def preprocess(s) :\n",
    "    w = tokenizer.tokenize(s.lower())  \n",
    "    w = [word for word in w if word not in stop_words] \n",
    "    w = [stemmer.stem(word) for word in w] \n",
    "    return ' '.join(w)        \n",
    "\n",
    "# with each row, preprocess the text string, and store all rows in the X_processed DataFrame\n",
    "X_news = pd.DataFrame([preprocess(testDf.loc[i,'text']) for i in range(len(testDf))])\n",
    "X_news.head()  "
   ]
  },
  {
   "cell_type": "markdown",
   "id": "c7af3de1",
   "metadata": {},
   "source": [
    "8d. __Test your ML model with your own test data__."
   ]
  },
  {
   "cell_type": "code",
   "execution_count": 317,
   "id": "ac892a6e",
   "metadata": {},
   "outputs": [
    {
     "data": {
      "text/plain": [
       "(5, 89633)"
      ]
     },
     "execution_count": 317,
     "metadata": {},
     "output_type": "execute_result"
    }
   ],
   "source": [
    "XNews = vect.transform(X_news[0])\n",
    "XNews.shape"
   ]
  },
  {
   "cell_type": "code",
   "execution_count": 318,
   "id": "7c4bcbea-9728-434c-b71d-32bebb469111",
   "metadata": {},
   "outputs": [
    {
     "data": {
      "text/plain": [
       "array([0, 0, 1, 0, 0])"
      ]
     },
     "execution_count": 318,
     "metadata": {},
     "output_type": "execute_result"
    }
   ],
   "source": [
    "prediction = classifier.predict(XNews)\n",
    "prediction"
   ]
  },
  {
   "cell_type": "markdown",
   "id": "de78514c",
   "metadata": {},
   "source": [
    "8e. __Create a DataFrame to show the actual y and predicted y values__."
   ]
  },
  {
   "cell_type": "code",
   "execution_count": 319,
   "id": "c31ea3de",
   "metadata": {},
   "outputs": [
    {
     "data": {
      "text/html": [
       "<div>\n",
       "<style scoped>\n",
       "    .dataframe tbody tr th:only-of-type {\n",
       "        vertical-align: middle;\n",
       "    }\n",
       "\n",
       "    .dataframe tbody tr th {\n",
       "        vertical-align: top;\n",
       "    }\n",
       "\n",
       "    .dataframe thead th {\n",
       "        text-align: right;\n",
       "    }\n",
       "</style>\n",
       "<table border=\"1\" class=\"dataframe\">\n",
       "  <thead>\n",
       "    <tr style=\"text-align: right;\">\n",
       "      <th></th>\n",
       "      <th>prediction</th>\n",
       "      <th>actual values</th>\n",
       "    </tr>\n",
       "  </thead>\n",
       "  <tbody>\n",
       "    <tr>\n",
       "      <th>0</th>\n",
       "      <td>0</td>\n",
       "      <td>true</td>\n",
       "    </tr>\n",
       "    <tr>\n",
       "      <th>1</th>\n",
       "      <td>0</td>\n",
       "      <td>true</td>\n",
       "    </tr>\n",
       "    <tr>\n",
       "      <th>2</th>\n",
       "      <td>1</td>\n",
       "      <td>true</td>\n",
       "    </tr>\n",
       "    <tr>\n",
       "      <th>3</th>\n",
       "      <td>0</td>\n",
       "      <td>false</td>\n",
       "    </tr>\n",
       "    <tr>\n",
       "      <th>4</th>\n",
       "      <td>0</td>\n",
       "      <td>false</td>\n",
       "    </tr>\n",
       "  </tbody>\n",
       "</table>\n",
       "</div>"
      ],
      "text/plain": [
       "   prediction actual values\n",
       "0           0          true\n",
       "1           0          true\n",
       "2           1          true\n",
       "3           0         false\n",
       "4           0         false"
      ]
     },
     "execution_count": 319,
     "metadata": {},
     "output_type": "execute_result"
    }
   ],
   "source": [
    "df = pd.DataFrame({\"prediction\":prediction, \"actual values\":y_actual})\n",
    "df"
   ]
  },
  {
   "cell_type": "markdown",
   "id": "ac3605e1",
   "metadata": {},
   "source": [
    "8f. __Explain your test result__ in a RawNB Convert cell.\n",
    "- Is it about the same rate as the model's accuracy?\n",
    "- What could you do with the news articles that you choose, that would cause your test result to be lower than the accuracy? Refer to observations you've made in the training data in the first steps of the notebook."
   ]
  },
  {
   "cell_type": "raw",
   "id": "277277d6-bc7a-43a9-9d23-0d44e439d28e",
   "metadata": {},
   "source": [
    "The predicted values do not suggest the same accuracy as the model. Some factors contributing to the accuracy of the model are the types of articles selected. Before, I tested articles from other trustworthy sources they resulted in false predictions. But once I implemented an article similar to those in the original dataset, I received a 'True' prediction. This occurred with the Reuters news articles. They are frequent in the dataset, so they are also likely to show up as true news in the predicted values. Additionally, the data sample we tested is quite small, which might also contribute to the effectiveness and accuracy of the model."
   ]
  }
 ],
 "metadata": {
  "kernelspec": {
   "display_name": "Python 3 (ipykernel)",
   "language": "python",
   "name": "python3"
  },
  "language_info": {
   "codemirror_mode": {
    "name": "ipython",
    "version": 3
   },
   "file_extension": ".py",
   "mimetype": "text/x-python",
   "name": "python",
   "nbconvert_exporter": "python",
   "pygments_lexer": "ipython3",
   "version": "3.12.1"
  }
 },
 "nbformat": 4,
 "nbformat_minor": 5
}
